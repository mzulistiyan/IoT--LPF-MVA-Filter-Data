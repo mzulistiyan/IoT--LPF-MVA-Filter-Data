{
  "nbformat": 4,
  "nbformat_minor": 0,
  "metadata": {
    "colab": {
      "provenance": []
    },
    "kernelspec": {
      "name": "python3",
      "display_name": "Python 3"
    },
    "language_info": {
      "name": "python"
    }
  },
  "cells": [
    {
      "cell_type": "code",
      "execution_count": null,
      "metadata": {
        "id": "qelWytYQTPJp"
      },
      "outputs": [],
      "source": [
        "import numpy as np\n",
        "import matplotlib.pyplot as plt\n",
        "import seaborn as sns\n",
        "import pandas as pd\n",
        "import datetime\n",
        "from scipy.signal import butter, filtfilt, freqz"
      ]
    },
    {
      "cell_type": "markdown",
      "source": [
        "# Bagian Baru"
      ],
      "metadata": {
        "id": "XvqYmplrXI_Y"
      }
    },
    {
      "cell_type": "code",
      "source": [
        "# Load and Read Dataset\n",
        "df = pd.read_csv(\"/content/data_1601_accel_phone.txt\", sep=\",\")\n",
        "df.columns = [\"Subject_ID\", \"Activity_Code\", \"Timestamp\", \"x\", \"y\", \"z\"]\n",
        "df['z'] = df['z'].str.replace(';','')\n",
        "df['z'] = df['z'].astype('float64')"
      ],
      "metadata": {
        "id": "9KtHE7hpWNQ1"
      },
      "execution_count": null,
      "outputs": []
    },
    {
      "cell_type": "code",
      "source": [
        "df.isna().sum()"
      ],
      "metadata": {
        "id": "o5ePrAh2p-TV",
        "colab": {
          "base_uri": "https://localhost:8080/"
        },
        "outputId": "51da283f-a918-4026-f4e4-42f6c583e72d"
      },
      "execution_count": null,
      "outputs": [
        {
          "output_type": "execute_result",
          "data": {
            "text/plain": [
              "Subject_ID       0\n",
              "Activity_Code    0\n",
              "Timestamp        0\n",
              "x                0\n",
              "y                0\n",
              "z                0\n",
              "dtype: int64"
            ]
          },
          "metadata": {},
          "execution_count": 158
        }
      ]
    },
    {
      "cell_type": "code",
      "source": [
        "df.isnull().sum()"
      ],
      "metadata": {
        "id": "1k8G8HYoqGFN",
        "colab": {
          "base_uri": "https://localhost:8080/"
        },
        "outputId": "68bec342-4735-49d1-b773-49ba4c667bfd"
      },
      "execution_count": null,
      "outputs": [
        {
          "output_type": "execute_result",
          "data": {
            "text/plain": [
              "Subject_ID       0\n",
              "Activity_Code    0\n",
              "Timestamp        0\n",
              "x                0\n",
              "y                0\n",
              "z                0\n",
              "dtype: int64"
            ]
          },
          "metadata": {},
          "execution_count": 159
        }
      ]
    },
    {
      "cell_type": "code",
      "source": [
        "df.head()"
      ],
      "metadata": {
        "id": "9MxbHiuDXNSR",
        "colab": {
          "base_uri": "https://localhost:8080/",
          "height": 206
        },
        "outputId": "61d52e4b-2424-4ffe-8f3a-3a8249b339f3"
      },
      "execution_count": null,
      "outputs": [
        {
          "output_type": "execute_result",
          "data": {
            "text/plain": [
              "   Subject_ID Activity_Code        Timestamp          x          y         z\n",
              "0        1601             A  265073348330612   5.354632  15.635334 -0.629077\n",
              "1        1601             A  265073388368581   6.399701  12.926893  0.450110\n",
              "2        1601             A  265073428111445  10.532093  13.207614 -1.024718\n",
              "3        1601             A  265073468081082  16.129736   2.683301  1.142633\n",
              "4        1601             A  265073508462957   0.393248   6.549937 -3.782240"
            ],
            "text/html": [
              "\n",
              "  <div id=\"df-9392d914-3fe2-401e-b8be-b280f68191c5\">\n",
              "    <div class=\"colab-df-container\">\n",
              "      <div>\n",
              "<style scoped>\n",
              "    .dataframe tbody tr th:only-of-type {\n",
              "        vertical-align: middle;\n",
              "    }\n",
              "\n",
              "    .dataframe tbody tr th {\n",
              "        vertical-align: top;\n",
              "    }\n",
              "\n",
              "    .dataframe thead th {\n",
              "        text-align: right;\n",
              "    }\n",
              "</style>\n",
              "<table border=\"1\" class=\"dataframe\">\n",
              "  <thead>\n",
              "    <tr style=\"text-align: right;\">\n",
              "      <th></th>\n",
              "      <th>Subject_ID</th>\n",
              "      <th>Activity_Code</th>\n",
              "      <th>Timestamp</th>\n",
              "      <th>x</th>\n",
              "      <th>y</th>\n",
              "      <th>z</th>\n",
              "    </tr>\n",
              "  </thead>\n",
              "  <tbody>\n",
              "    <tr>\n",
              "      <th>0</th>\n",
              "      <td>1601</td>\n",
              "      <td>A</td>\n",
              "      <td>265073348330612</td>\n",
              "      <td>5.354632</td>\n",
              "      <td>15.635334</td>\n",
              "      <td>-0.629077</td>\n",
              "    </tr>\n",
              "    <tr>\n",
              "      <th>1</th>\n",
              "      <td>1601</td>\n",
              "      <td>A</td>\n",
              "      <td>265073388368581</td>\n",
              "      <td>6.399701</td>\n",
              "      <td>12.926893</td>\n",
              "      <td>0.450110</td>\n",
              "    </tr>\n",
              "    <tr>\n",
              "      <th>2</th>\n",
              "      <td>1601</td>\n",
              "      <td>A</td>\n",
              "      <td>265073428111445</td>\n",
              "      <td>10.532093</td>\n",
              "      <td>13.207614</td>\n",
              "      <td>-1.024718</td>\n",
              "    </tr>\n",
              "    <tr>\n",
              "      <th>3</th>\n",
              "      <td>1601</td>\n",
              "      <td>A</td>\n",
              "      <td>265073468081082</td>\n",
              "      <td>16.129736</td>\n",
              "      <td>2.683301</td>\n",
              "      <td>1.142633</td>\n",
              "    </tr>\n",
              "    <tr>\n",
              "      <th>4</th>\n",
              "      <td>1601</td>\n",
              "      <td>A</td>\n",
              "      <td>265073508462957</td>\n",
              "      <td>0.393248</td>\n",
              "      <td>6.549937</td>\n",
              "      <td>-3.782240</td>\n",
              "    </tr>\n",
              "  </tbody>\n",
              "</table>\n",
              "</div>\n",
              "      <button class=\"colab-df-convert\" onclick=\"convertToInteractive('df-9392d914-3fe2-401e-b8be-b280f68191c5')\"\n",
              "              title=\"Convert this dataframe to an interactive table.\"\n",
              "              style=\"display:none;\">\n",
              "        \n",
              "  <svg xmlns=\"http://www.w3.org/2000/svg\" height=\"24px\"viewBox=\"0 0 24 24\"\n",
              "       width=\"24px\">\n",
              "    <path d=\"M0 0h24v24H0V0z\" fill=\"none\"/>\n",
              "    <path d=\"M18.56 5.44l.94 2.06.94-2.06 2.06-.94-2.06-.94-.94-2.06-.94 2.06-2.06.94zm-11 1L8.5 8.5l.94-2.06 2.06-.94-2.06-.94L8.5 2.5l-.94 2.06-2.06.94zm10 10l.94 2.06.94-2.06 2.06-.94-2.06-.94-.94-2.06-.94 2.06-2.06.94z\"/><path d=\"M17.41 7.96l-1.37-1.37c-.4-.4-.92-.59-1.43-.59-.52 0-1.04.2-1.43.59L10.3 9.45l-7.72 7.72c-.78.78-.78 2.05 0 2.83L4 21.41c.39.39.9.59 1.41.59.51 0 1.02-.2 1.41-.59l7.78-7.78 2.81-2.81c.8-.78.8-2.07 0-2.86zM5.41 20L4 18.59l7.72-7.72 1.47 1.35L5.41 20z\"/>\n",
              "  </svg>\n",
              "      </button>\n",
              "      \n",
              "  <style>\n",
              "    .colab-df-container {\n",
              "      display:flex;\n",
              "      flex-wrap:wrap;\n",
              "      gap: 12px;\n",
              "    }\n",
              "\n",
              "    .colab-df-convert {\n",
              "      background-color: #E8F0FE;\n",
              "      border: none;\n",
              "      border-radius: 50%;\n",
              "      cursor: pointer;\n",
              "      display: none;\n",
              "      fill: #1967D2;\n",
              "      height: 32px;\n",
              "      padding: 0 0 0 0;\n",
              "      width: 32px;\n",
              "    }\n",
              "\n",
              "    .colab-df-convert:hover {\n",
              "      background-color: #E2EBFA;\n",
              "      box-shadow: 0px 1px 2px rgba(60, 64, 67, 0.3), 0px 1px 3px 1px rgba(60, 64, 67, 0.15);\n",
              "      fill: #174EA6;\n",
              "    }\n",
              "\n",
              "    [theme=dark] .colab-df-convert {\n",
              "      background-color: #3B4455;\n",
              "      fill: #D2E3FC;\n",
              "    }\n",
              "\n",
              "    [theme=dark] .colab-df-convert:hover {\n",
              "      background-color: #434B5C;\n",
              "      box-shadow: 0px 1px 3px 1px rgba(0, 0, 0, 0.15);\n",
              "      filter: drop-shadow(0px 1px 2px rgba(0, 0, 0, 0.3));\n",
              "      fill: #FFFFFF;\n",
              "    }\n",
              "  </style>\n",
              "\n",
              "      <script>\n",
              "        const buttonEl =\n",
              "          document.querySelector('#df-9392d914-3fe2-401e-b8be-b280f68191c5 button.colab-df-convert');\n",
              "        buttonEl.style.display =\n",
              "          google.colab.kernel.accessAllowed ? 'block' : 'none';\n",
              "\n",
              "        async function convertToInteractive(key) {\n",
              "          const element = document.querySelector('#df-9392d914-3fe2-401e-b8be-b280f68191c5');\n",
              "          const dataTable =\n",
              "            await google.colab.kernel.invokeFunction('convertToInteractive',\n",
              "                                                     [key], {});\n",
              "          if (!dataTable) return;\n",
              "\n",
              "          const docLinkHtml = 'Like what you see? Visit the ' +\n",
              "            '<a target=\"_blank\" href=https://colab.research.google.com/notebooks/data_table.ipynb>data table notebook</a>'\n",
              "            + ' to learn more about interactive tables.';\n",
              "          element.innerHTML = '';\n",
              "          dataTable['output_type'] = 'display_data';\n",
              "          await google.colab.output.renderOutput(dataTable, element);\n",
              "          const docLink = document.createElement('div');\n",
              "          docLink.innerHTML = docLinkHtml;\n",
              "          element.appendChild(docLink);\n",
              "        }\n",
              "      </script>\n",
              "    </div>\n",
              "  </div>\n",
              "  "
            ]
          },
          "metadata": {},
          "execution_count": 160
        }
      ]
    },
    {
      "cell_type": "code",
      "source": [
        "df.tail()"
      ],
      "metadata": {
        "id": "a3Khi6V_ZCo1",
        "colab": {
          "base_uri": "https://localhost:8080/",
          "height": 206
        },
        "outputId": "0f5b8d89-3134-416d-c502-6ee4348a0f30"
      },
      "execution_count": null,
      "outputs": [
        {
          "output_type": "execute_result",
          "data": {
            "text/plain": [
              "       Subject_ID Activity_Code        Timestamp         x          y  \\\n",
              "81451        1601             S  258908699056416  2.015319   9.988011   \n",
              "81452        1601             S  258908738947822  1.681927  10.074801   \n",
              "81453        1601             S  258908778855321  1.148020   9.127296   \n",
              "81454        1601             S  258908818435165  1.417966   9.126099   \n",
              "81455        1601             S  258908858366259  1.383250  10.053851   \n",
              "\n",
              "              z  \n",
              "81451  0.746392  \n",
              "81452  1.726219  \n",
              "81453  1.492186  \n",
              "81454  1.077989  \n",
              "81455  2.373252  "
            ],
            "text/html": [
              "\n",
              "  <div id=\"df-3b14a62e-151e-49bf-a466-f242e5adca1c\">\n",
              "    <div class=\"colab-df-container\">\n",
              "      <div>\n",
              "<style scoped>\n",
              "    .dataframe tbody tr th:only-of-type {\n",
              "        vertical-align: middle;\n",
              "    }\n",
              "\n",
              "    .dataframe tbody tr th {\n",
              "        vertical-align: top;\n",
              "    }\n",
              "\n",
              "    .dataframe thead th {\n",
              "        text-align: right;\n",
              "    }\n",
              "</style>\n",
              "<table border=\"1\" class=\"dataframe\">\n",
              "  <thead>\n",
              "    <tr style=\"text-align: right;\">\n",
              "      <th></th>\n",
              "      <th>Subject_ID</th>\n",
              "      <th>Activity_Code</th>\n",
              "      <th>Timestamp</th>\n",
              "      <th>x</th>\n",
              "      <th>y</th>\n",
              "      <th>z</th>\n",
              "    </tr>\n",
              "  </thead>\n",
              "  <tbody>\n",
              "    <tr>\n",
              "      <th>81451</th>\n",
              "      <td>1601</td>\n",
              "      <td>S</td>\n",
              "      <td>258908699056416</td>\n",
              "      <td>2.015319</td>\n",
              "      <td>9.988011</td>\n",
              "      <td>0.746392</td>\n",
              "    </tr>\n",
              "    <tr>\n",
              "      <th>81452</th>\n",
              "      <td>1601</td>\n",
              "      <td>S</td>\n",
              "      <td>258908738947822</td>\n",
              "      <td>1.681927</td>\n",
              "      <td>10.074801</td>\n",
              "      <td>1.726219</td>\n",
              "    </tr>\n",
              "    <tr>\n",
              "      <th>81453</th>\n",
              "      <td>1601</td>\n",
              "      <td>S</td>\n",
              "      <td>258908778855321</td>\n",
              "      <td>1.148020</td>\n",
              "      <td>9.127296</td>\n",
              "      <td>1.492186</td>\n",
              "    </tr>\n",
              "    <tr>\n",
              "      <th>81454</th>\n",
              "      <td>1601</td>\n",
              "      <td>S</td>\n",
              "      <td>258908818435165</td>\n",
              "      <td>1.417966</td>\n",
              "      <td>9.126099</td>\n",
              "      <td>1.077989</td>\n",
              "    </tr>\n",
              "    <tr>\n",
              "      <th>81455</th>\n",
              "      <td>1601</td>\n",
              "      <td>S</td>\n",
              "      <td>258908858366259</td>\n",
              "      <td>1.383250</td>\n",
              "      <td>10.053851</td>\n",
              "      <td>2.373252</td>\n",
              "    </tr>\n",
              "  </tbody>\n",
              "</table>\n",
              "</div>\n",
              "      <button class=\"colab-df-convert\" onclick=\"convertToInteractive('df-3b14a62e-151e-49bf-a466-f242e5adca1c')\"\n",
              "              title=\"Convert this dataframe to an interactive table.\"\n",
              "              style=\"display:none;\">\n",
              "        \n",
              "  <svg xmlns=\"http://www.w3.org/2000/svg\" height=\"24px\"viewBox=\"0 0 24 24\"\n",
              "       width=\"24px\">\n",
              "    <path d=\"M0 0h24v24H0V0z\" fill=\"none\"/>\n",
              "    <path d=\"M18.56 5.44l.94 2.06.94-2.06 2.06-.94-2.06-.94-.94-2.06-.94 2.06-2.06.94zm-11 1L8.5 8.5l.94-2.06 2.06-.94-2.06-.94L8.5 2.5l-.94 2.06-2.06.94zm10 10l.94 2.06.94-2.06 2.06-.94-2.06-.94-.94-2.06-.94 2.06-2.06.94z\"/><path d=\"M17.41 7.96l-1.37-1.37c-.4-.4-.92-.59-1.43-.59-.52 0-1.04.2-1.43.59L10.3 9.45l-7.72 7.72c-.78.78-.78 2.05 0 2.83L4 21.41c.39.39.9.59 1.41.59.51 0 1.02-.2 1.41-.59l7.78-7.78 2.81-2.81c.8-.78.8-2.07 0-2.86zM5.41 20L4 18.59l7.72-7.72 1.47 1.35L5.41 20z\"/>\n",
              "  </svg>\n",
              "      </button>\n",
              "      \n",
              "  <style>\n",
              "    .colab-df-container {\n",
              "      display:flex;\n",
              "      flex-wrap:wrap;\n",
              "      gap: 12px;\n",
              "    }\n",
              "\n",
              "    .colab-df-convert {\n",
              "      background-color: #E8F0FE;\n",
              "      border: none;\n",
              "      border-radius: 50%;\n",
              "      cursor: pointer;\n",
              "      display: none;\n",
              "      fill: #1967D2;\n",
              "      height: 32px;\n",
              "      padding: 0 0 0 0;\n",
              "      width: 32px;\n",
              "    }\n",
              "\n",
              "    .colab-df-convert:hover {\n",
              "      background-color: #E2EBFA;\n",
              "      box-shadow: 0px 1px 2px rgba(60, 64, 67, 0.3), 0px 1px 3px 1px rgba(60, 64, 67, 0.15);\n",
              "      fill: #174EA6;\n",
              "    }\n",
              "\n",
              "    [theme=dark] .colab-df-convert {\n",
              "      background-color: #3B4455;\n",
              "      fill: #D2E3FC;\n",
              "    }\n",
              "\n",
              "    [theme=dark] .colab-df-convert:hover {\n",
              "      background-color: #434B5C;\n",
              "      box-shadow: 0px 1px 3px 1px rgba(0, 0, 0, 0.15);\n",
              "      filter: drop-shadow(0px 1px 2px rgba(0, 0, 0, 0.3));\n",
              "      fill: #FFFFFF;\n",
              "    }\n",
              "  </style>\n",
              "\n",
              "      <script>\n",
              "        const buttonEl =\n",
              "          document.querySelector('#df-3b14a62e-151e-49bf-a466-f242e5adca1c button.colab-df-convert');\n",
              "        buttonEl.style.display =\n",
              "          google.colab.kernel.accessAllowed ? 'block' : 'none';\n",
              "\n",
              "        async function convertToInteractive(key) {\n",
              "          const element = document.querySelector('#df-3b14a62e-151e-49bf-a466-f242e5adca1c');\n",
              "          const dataTable =\n",
              "            await google.colab.kernel.invokeFunction('convertToInteractive',\n",
              "                                                     [key], {});\n",
              "          if (!dataTable) return;\n",
              "\n",
              "          const docLinkHtml = 'Like what you see? Visit the ' +\n",
              "            '<a target=\"_blank\" href=https://colab.research.google.com/notebooks/data_table.ipynb>data table notebook</a>'\n",
              "            + ' to learn more about interactive tables.';\n",
              "          element.innerHTML = '';\n",
              "          dataTable['output_type'] = 'display_data';\n",
              "          await google.colab.output.renderOutput(dataTable, element);\n",
              "          const docLink = document.createElement('div');\n",
              "          docLink.innerHTML = docLinkHtml;\n",
              "          element.appendChild(docLink);\n",
              "        }\n",
              "      </script>\n",
              "    </div>\n",
              "  </div>\n",
              "  "
            ]
          },
          "metadata": {},
          "execution_count": 161
        }
      ]
    },
    {
      "cell_type": "code",
      "source": [
        "df.describe()"
      ],
      "metadata": {
        "id": "ksdd7OdZZRH7",
        "colab": {
          "base_uri": "https://localhost:8080/",
          "height": 300
        },
        "outputId": "9e31fbc8-2145-446d-9993-5ce416a8868e"
      },
      "execution_count": null,
      "outputs": [
        {
          "output_type": "execute_result",
          "data": {
            "text/plain": [
              "       Subject_ID     Timestamp             x             y             z\n",
              "count     81456.0  8.145600e+04  81456.000000  81456.000000  81456.000000\n",
              "mean       1601.0  2.635069e+14     -1.621992      3.643569      4.802328\n",
              "std           0.0  3.606239e+12      3.874677      5.830037      4.623182\n",
              "min        1601.0  2.580269e+14    -19.613300    -19.613300    -19.613300\n",
              "25%        1601.0  2.597430e+14     -4.298191      0.499191      0.626084\n",
              "50%        1601.0  2.647245e+14     -2.299930      1.520917      5.847239\n",
              "75%        1601.0  2.671165e+14      0.949900      9.351153      8.658031\n",
              "max        1601.0  2.685413e+14     19.612701     19.612701     19.612701"
            ],
            "text/html": [
              "\n",
              "  <div id=\"df-23d796e3-e353-45ae-98c3-b437af6daf09\">\n",
              "    <div class=\"colab-df-container\">\n",
              "      <div>\n",
              "<style scoped>\n",
              "    .dataframe tbody tr th:only-of-type {\n",
              "        vertical-align: middle;\n",
              "    }\n",
              "\n",
              "    .dataframe tbody tr th {\n",
              "        vertical-align: top;\n",
              "    }\n",
              "\n",
              "    .dataframe thead th {\n",
              "        text-align: right;\n",
              "    }\n",
              "</style>\n",
              "<table border=\"1\" class=\"dataframe\">\n",
              "  <thead>\n",
              "    <tr style=\"text-align: right;\">\n",
              "      <th></th>\n",
              "      <th>Subject_ID</th>\n",
              "      <th>Timestamp</th>\n",
              "      <th>x</th>\n",
              "      <th>y</th>\n",
              "      <th>z</th>\n",
              "    </tr>\n",
              "  </thead>\n",
              "  <tbody>\n",
              "    <tr>\n",
              "      <th>count</th>\n",
              "      <td>81456.0</td>\n",
              "      <td>8.145600e+04</td>\n",
              "      <td>81456.000000</td>\n",
              "      <td>81456.000000</td>\n",
              "      <td>81456.000000</td>\n",
              "    </tr>\n",
              "    <tr>\n",
              "      <th>mean</th>\n",
              "      <td>1601.0</td>\n",
              "      <td>2.635069e+14</td>\n",
              "      <td>-1.621992</td>\n",
              "      <td>3.643569</td>\n",
              "      <td>4.802328</td>\n",
              "    </tr>\n",
              "    <tr>\n",
              "      <th>std</th>\n",
              "      <td>0.0</td>\n",
              "      <td>3.606239e+12</td>\n",
              "      <td>3.874677</td>\n",
              "      <td>5.830037</td>\n",
              "      <td>4.623182</td>\n",
              "    </tr>\n",
              "    <tr>\n",
              "      <th>min</th>\n",
              "      <td>1601.0</td>\n",
              "      <td>2.580269e+14</td>\n",
              "      <td>-19.613300</td>\n",
              "      <td>-19.613300</td>\n",
              "      <td>-19.613300</td>\n",
              "    </tr>\n",
              "    <tr>\n",
              "      <th>25%</th>\n",
              "      <td>1601.0</td>\n",
              "      <td>2.597430e+14</td>\n",
              "      <td>-4.298191</td>\n",
              "      <td>0.499191</td>\n",
              "      <td>0.626084</td>\n",
              "    </tr>\n",
              "    <tr>\n",
              "      <th>50%</th>\n",
              "      <td>1601.0</td>\n",
              "      <td>2.647245e+14</td>\n",
              "      <td>-2.299930</td>\n",
              "      <td>1.520917</td>\n",
              "      <td>5.847239</td>\n",
              "    </tr>\n",
              "    <tr>\n",
              "      <th>75%</th>\n",
              "      <td>1601.0</td>\n",
              "      <td>2.671165e+14</td>\n",
              "      <td>0.949900</td>\n",
              "      <td>9.351153</td>\n",
              "      <td>8.658031</td>\n",
              "    </tr>\n",
              "    <tr>\n",
              "      <th>max</th>\n",
              "      <td>1601.0</td>\n",
              "      <td>2.685413e+14</td>\n",
              "      <td>19.612701</td>\n",
              "      <td>19.612701</td>\n",
              "      <td>19.612701</td>\n",
              "    </tr>\n",
              "  </tbody>\n",
              "</table>\n",
              "</div>\n",
              "      <button class=\"colab-df-convert\" onclick=\"convertToInteractive('df-23d796e3-e353-45ae-98c3-b437af6daf09')\"\n",
              "              title=\"Convert this dataframe to an interactive table.\"\n",
              "              style=\"display:none;\">\n",
              "        \n",
              "  <svg xmlns=\"http://www.w3.org/2000/svg\" height=\"24px\"viewBox=\"0 0 24 24\"\n",
              "       width=\"24px\">\n",
              "    <path d=\"M0 0h24v24H0V0z\" fill=\"none\"/>\n",
              "    <path d=\"M18.56 5.44l.94 2.06.94-2.06 2.06-.94-2.06-.94-.94-2.06-.94 2.06-2.06.94zm-11 1L8.5 8.5l.94-2.06 2.06-.94-2.06-.94L8.5 2.5l-.94 2.06-2.06.94zm10 10l.94 2.06.94-2.06 2.06-.94-2.06-.94-.94-2.06-.94 2.06-2.06.94z\"/><path d=\"M17.41 7.96l-1.37-1.37c-.4-.4-.92-.59-1.43-.59-.52 0-1.04.2-1.43.59L10.3 9.45l-7.72 7.72c-.78.78-.78 2.05 0 2.83L4 21.41c.39.39.9.59 1.41.59.51 0 1.02-.2 1.41-.59l7.78-7.78 2.81-2.81c.8-.78.8-2.07 0-2.86zM5.41 20L4 18.59l7.72-7.72 1.47 1.35L5.41 20z\"/>\n",
              "  </svg>\n",
              "      </button>\n",
              "      \n",
              "  <style>\n",
              "    .colab-df-container {\n",
              "      display:flex;\n",
              "      flex-wrap:wrap;\n",
              "      gap: 12px;\n",
              "    }\n",
              "\n",
              "    .colab-df-convert {\n",
              "      background-color: #E8F0FE;\n",
              "      border: none;\n",
              "      border-radius: 50%;\n",
              "      cursor: pointer;\n",
              "      display: none;\n",
              "      fill: #1967D2;\n",
              "      height: 32px;\n",
              "      padding: 0 0 0 0;\n",
              "      width: 32px;\n",
              "    }\n",
              "\n",
              "    .colab-df-convert:hover {\n",
              "      background-color: #E2EBFA;\n",
              "      box-shadow: 0px 1px 2px rgba(60, 64, 67, 0.3), 0px 1px 3px 1px rgba(60, 64, 67, 0.15);\n",
              "      fill: #174EA6;\n",
              "    }\n",
              "\n",
              "    [theme=dark] .colab-df-convert {\n",
              "      background-color: #3B4455;\n",
              "      fill: #D2E3FC;\n",
              "    }\n",
              "\n",
              "    [theme=dark] .colab-df-convert:hover {\n",
              "      background-color: #434B5C;\n",
              "      box-shadow: 0px 1px 3px 1px rgba(0, 0, 0, 0.15);\n",
              "      filter: drop-shadow(0px 1px 2px rgba(0, 0, 0, 0.3));\n",
              "      fill: #FFFFFF;\n",
              "    }\n",
              "  </style>\n",
              "\n",
              "      <script>\n",
              "        const buttonEl =\n",
              "          document.querySelector('#df-23d796e3-e353-45ae-98c3-b437af6daf09 button.colab-df-convert');\n",
              "        buttonEl.style.display =\n",
              "          google.colab.kernel.accessAllowed ? 'block' : 'none';\n",
              "\n",
              "        async function convertToInteractive(key) {\n",
              "          const element = document.querySelector('#df-23d796e3-e353-45ae-98c3-b437af6daf09');\n",
              "          const dataTable =\n",
              "            await google.colab.kernel.invokeFunction('convertToInteractive',\n",
              "                                                     [key], {});\n",
              "          if (!dataTable) return;\n",
              "\n",
              "          const docLinkHtml = 'Like what you see? Visit the ' +\n",
              "            '<a target=\"_blank\" href=https://colab.research.google.com/notebooks/data_table.ipynb>data table notebook</a>'\n",
              "            + ' to learn more about interactive tables.';\n",
              "          element.innerHTML = '';\n",
              "          dataTable['output_type'] = 'display_data';\n",
              "          await google.colab.output.renderOutput(dataTable, element);\n",
              "          const docLink = document.createElement('div');\n",
              "          docLink.innerHTML = docLinkHtml;\n",
              "          element.appendChild(docLink);\n",
              "        }\n",
              "      </script>\n",
              "    </div>\n",
              "  </div>\n",
              "  "
            ]
          },
          "metadata": {},
          "execution_count": 162
        }
      ]
    },
    {
      "cell_type": "code",
      "source": [
        "df.dtypes"
      ],
      "metadata": {
        "id": "rf8yM6ipdwn7",
        "colab": {
          "base_uri": "https://localhost:8080/"
        },
        "outputId": "40040ce2-3ece-4a5c-cedc-64bf37a326bf"
      },
      "execution_count": null,
      "outputs": [
        {
          "output_type": "execute_result",
          "data": {
            "text/plain": [
              "Subject_ID         int64\n",
              "Activity_Code     object\n",
              "Timestamp          int64\n",
              "x                float64\n",
              "y                float64\n",
              "z                float64\n",
              "dtype: object"
            ]
          },
          "metadata": {},
          "execution_count": 163
        }
      ]
    },
    {
      "cell_type": "code",
      "source": [
        "# Plot raw data\n",
        "plt.figure(figsize=(10, 5))\n",
        "plt.plot(df['x'], label='Raw data')\n",
        "plt.title('Raw data')\n",
        "plt.xlabel('Sample')\n",
        "plt.ylabel('Acceleration')\n",
        "plt.legend()\n",
        "plt.show()"
      ],
      "metadata": {
        "id": "Y0iHz6uxYK-q",
        "colab": {
          "base_uri": "https://localhost:8080/",
          "height": 350
        },
        "outputId": "7535831a-1c0a-4af1-c82e-a7397fdeccf0"
      },
      "execution_count": null,
      "outputs": [
        {
          "output_type": "display_data",
          "data": {
            "text/plain": [
              "<Figure size 720x360 with 1 Axes>"
            ],
            "image/png": "[encoded data removed]"
          },
          "metadata": {}
        }
      ]
    },
    {
      "cell_type": "code",
      "source": [
        "# Boxplot \n",
        "# Create a boxplot using Seaborn\n",
        "sns.set_style(\"whitegrid\")  # Set the style of the plot\n",
        "sns.boxplot(df['x'])"
      ],
      "metadata": {
        "id": "fVIYJjIyn3Qn",
        "colab": {
          "base_uri": "https://localhost:8080/",
          "height": 283
        },
        "outputId": "6460a77f-a114-4b95-933f-6275382ef29b"
      },
      "execution_count": null,
      "outputs": [
        {
          "output_type": "execute_result",
          "data": {
            "text/plain": [
              "<Axes: >"
            ]
          },
          "metadata": {},
          "execution_count": 165
        },
        {
          "output_type": "display_data",
          "data": {
            "text/plain": [
              "<Figure size 432x288 with 1 Axes>"
            ],
            "image/png": "[encoded data removed]"
          },
          "metadata": {}
        }
      ]
    },
    {
      "cell_type": "code",
      "source": [
        "# Boxplot \n",
        "# Create a boxplot using Seaborn\n",
        "sns.set_style(\"whitegrid\")  # Set the style of the plot\n",
        "sns.boxplot(df['y'])"
      ],
      "metadata": {
        "id": "SerP8rLHonql",
        "colab": {
          "base_uri": "https://localhost:8080/",
          "height": 283
        },
        "outputId": "eae5c99b-8443-4243-c03e-b5fdef7d208f"
      },
      "execution_count": null,
      "outputs": [
        {
          "output_type": "execute_result",
          "data": {
            "text/plain": [
              "<Axes: >"
            ]
          },
          "metadata": {},
          "execution_count": 166
        },
        {
          "output_type": "display_data",
          "data": {
            "text/plain": [
              "<Figure size 432x288 with 1 Axes>"
            ],
            "image/png": "[encoded data removed]"
          },
          "metadata": {}
        }
      ]
    },
    {
      "cell_type": "code",
      "source": [
        "# Function filter for filter the lowpass freq\n",
        "def butter_lowpass_filter(data, cutoff, fs, order):\n",
        "  nyq = 0.5 * fs\n",
        "  normal_cutoff = cutoff / nyq\n",
        "  # Get the filter coefficients \n",
        "  b, a = butter(order, normal_cutoff, btype='low', analog=False)\n",
        "  y = filtfilt(b, a, data)\n",
        "  return y"
      ],
      "metadata": {
        "id": "dyEX6XaET7Xi"
      },
      "execution_count": null,
      "outputs": []
    },
    {
      "cell_type": "code",
      "source": [
        "# Settng filter\n",
        "order = 5\n",
        "fs = 30.0\n",
        "cutoff = 5"
      ],
      "metadata": {
        "id": "BIpuomUwVZpD"
      },
      "execution_count": null,
      "outputs": []
    },
    {
      "cell_type": "code",
      "source": [
        "data = df.drop(['Subject_ID','Activity_Code'], axis=1)"
      ],
      "metadata": {
        "id": "X5gZRGRRzEr2"
      },
      "execution_count": null,
      "outputs": []
    },
    {
      "cell_type": "code",
      "source": [
        "# Filter the data, and plot both the original and filtered signals.\n",
        "y = butter_lowpass_filter(data['x'], cutoff, fs, order)\n",
        "\n",
        "# Plot raw data\n",
        "plt.figure(figsize=(10, 5))\n",
        "plt.plot(df['x'], label='Raw data')\n",
        "plt.plot(y, label='Low pass filtered data')\n",
        "plt.title('Raw data')\n",
        "plt.xlabel('Sample')\n",
        "plt.ylabel('Acceleration')\n",
        "plt.legend()\n",
        "plt.show()"
      ],
      "metadata": {
        "id": "_HIX1SelzB9e",
        "colab": {
          "base_uri": "https://localhost:8080/",
          "height": 350
        },
        "outputId": "74271742-6f76-42f0-9359-a2e6e11fd6ba"
      },
      "execution_count": null,
      "outputs": [
        {
          "output_type": "display_data",
          "data": {
            "text/plain": [
              "<Figure size 720x360 with 1 Axes>"
            ],
            "image/png": "[encoded data removed]"
          },
          "metadata": {}
        }
      ]
    },
    {
      "cell_type": "markdown",
      "source": [
        "# **MVA Filter**"
      ],
      "metadata": {
        "id": "ai9NZl-Wh_qh"
      }
    },
    {
      "cell_type": "code",
      "source": [
        "import numpy as np\n",
        "import matplotlib.pyplot as plt\n",
        "\n",
        "x = df['x']\n",
        "\n",
        "# Define the filter parameters\n",
        "window_size = 5\n",
        "\n",
        "# Create the MVA filter\n",
        "window = np.ones(window_size) / window_size\n",
        "filtered_x = np.convolve(df['x'], window, mode='same')\n",
        "\n",
        "# Plot the results\n",
        "plt.plot(x, label='Noisy signal')\n",
        "plt.plot(filtered_x, label='Filtered signal')\n",
        "plt.legend()\n",
        "plt.show()"
      ],
      "metadata": {
        "id": "UqBPfolAhLjT",
        "colab": {
          "base_uri": "https://localhost:8080/",
          "height": 265
        },
        "outputId": "90c5e6a9-a4fe-452d-9a21-be6a4cdbf615"
      },
      "execution_count": null,
      "outputs": [
        {
          "output_type": "display_data",
          "data": {
            "text/plain": [
              "<Figure size 432x288 with 1 Axes>"
            ],
            "image/png": "[encoded data removed]"
          },
          "metadata": {}
        }
      ]
    },
    {
      "cell_type": "code",
      "source": [
        "import numpy as np\n",
        "import matplotlib.pyplot as plt\n",
        "\n",
        "x = df['x']\n",
        "\n",
        "# Define the filter parameters\n",
        "window_size = 10\n",
        "\n",
        "# Create the MVA filter\n",
        "window = np.ones(window_size) / window_size\n",
        "filtered_x = np.convolve(df['x'], window, mode='same')\n",
        "\n",
        "# Plot the results\n",
        "plt.plot(x, label='Noisy signal')\n",
        "plt.plot(filtered_x, label='Filtered signal')\n",
        "plt.legend()\n",
        "plt.show()"
      ],
      "metadata": {
        "id": "40PMR4LNf7qc",
        "colab": {
          "base_uri": "https://localhost:8080/",
          "height": 265
        },
        "outputId": "e4c8d426-99ac-43d8-f220-236b784d3f60"
      },
      "execution_count": null,
      "outputs": [
        {
          "output_type": "display_data",
          "data": {
            "text/plain": [
              "<Figure size 432x288 with 1 Axes>"
            ],
            "image/png": "[encoded data removed]"
          },
          "metadata": {}
        }
      ]
    },
    {
      "cell_type": "code",
      "source": [
        "import numpy as np\n",
        "import matplotlib.pyplot as plt\n",
        "\n",
        "x = df['x']\n",
        "\n",
        "# Define the filter parameters\n",
        "window_size = 15\n",
        "\n",
        "# Create the MVA filter\n",
        "window = np.ones(window_size) / window_size\n",
        "filtered_x = np.convolve(df['x'], window, mode='same')\n",
        "\n",
        "# Plot the results\n",
        "plt.plot(x, label='Noisy signal')\n",
        "plt.plot(filtered_x, label='Filtered signal')\n",
        "plt.legend()\n",
        "plt.show()"
      ],
      "metadata": {
        "colab": {
          "base_uri": "https://localhost:8080/",
          "height": 265
        },
        "id": "5ZqkFG-eFaCY",
        "outputId": "0b1ebad8-1301-4acf-f4fb-463c27286ffc"
      },
      "execution_count": null,
      "outputs": [
        {
          "output_type": "display_data",
          "data": {
            "text/plain": [
              "<Figure size 432x288 with 1 Axes>"
            ],
            "image/png": "[encoded data removed]"
          },
          "metadata": {}
        }
      ]
    }
  ]
}